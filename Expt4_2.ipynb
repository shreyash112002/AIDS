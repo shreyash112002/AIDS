{
  "nbformat": 4,
  "nbformat_minor": 0,
  "metadata": {
    "colab": {
      "provenance": []
    },
    "kernelspec": {
      "name": "python3",
      "display_name": "Python 3"
    },
    "language_info": {
      "name": "python"
    }
  },
  "cells": [
    {
      "cell_type": "code",
      "execution_count": 1,
      "metadata": {
        "colab": {
          "base_uri": "https://localhost:8080/"
        },
        "id": "DGOtdZcGs1RD",
        "outputId": "fbe5654f-ce5e-466c-ac40-ea3fa508d6eb"
      },
      "outputs": [
        {
          "output_type": "stream",
          "name": "stdout",
          "text": [
            "Downloading data from https://storage.googleapis.com/tensorflow/tf-keras-datasets/mnist.npz\n",
            "11490434/11490434 [==============================] - 1s 0us/step\n",
            "Epoch 1/10\n",
            "300/300 - 7s - loss: 0.2771 - accuracy: 0.9207 - val_loss: 0.1414 - val_accuracy: 0.9583 - 7s/epoch - 23ms/step\n",
            "Epoch 2/10\n",
            "300/300 - 6s - loss: 0.1108 - accuracy: 0.9681 - val_loss: 0.0950 - val_accuracy: 0.9704 - 6s/epoch - 20ms/step\n",
            "Epoch 3/10\n",
            "300/300 - 5s - loss: 0.0711 - accuracy: 0.9794 - val_loss: 0.0754 - val_accuracy: 0.9760 - 5s/epoch - 16ms/step\n",
            "Epoch 4/10\n",
            "300/300 - 6s - loss: 0.0502 - accuracy: 0.9854 - val_loss: 0.0751 - val_accuracy: 0.9765 - 6s/epoch - 21ms/step\n",
            "Epoch 5/10\n",
            "300/300 - 5s - loss: 0.0366 - accuracy: 0.9899 - val_loss: 0.0675 - val_accuracy: 0.9781 - 5s/epoch - 17ms/step\n",
            "Epoch 6/10\n",
            "300/300 - 6s - loss: 0.0270 - accuracy: 0.9925 - val_loss: 0.0638 - val_accuracy: 0.9788 - 6s/epoch - 20ms/step\n",
            "Epoch 7/10\n",
            "300/300 - 5s - loss: 0.0193 - accuracy: 0.9954 - val_loss: 0.0625 - val_accuracy: 0.9802 - 5s/epoch - 17ms/step\n",
            "Epoch 8/10\n",
            "300/300 - 5s - loss: 0.0151 - accuracy: 0.9960 - val_loss: 0.0595 - val_accuracy: 0.9797 - 5s/epoch - 17ms/step\n",
            "Epoch 9/10\n",
            "300/300 - 6s - loss: 0.0117 - accuracy: 0.9973 - val_loss: 0.0697 - val_accuracy: 0.9795 - 6s/epoch - 21ms/step\n",
            "Epoch 10/10\n",
            "300/300 - 5s - loss: 0.0087 - accuracy: 0.9984 - val_loss: 0.0597 - val_accuracy: 0.9820 - 5s/epoch - 17ms/step\n",
            "Baseline Error: 1.80%\n"
          ]
        }
      ],
      "source": [
        "### Baseline Model with Multi-Layer Perceptrons\n",
        "# Baseline MLP for MNIST dataset\n",
        "from tensorflow.keras.datasets import mnist\n",
        "from tensorflow.keras.models import Sequential\n",
        "from tensorflow.keras.layers import Dense\n",
        "from tensorflow.keras.utils import to_categorical\n",
        "# load data\n",
        "(X_train, y_train), (X_test, y_test) = mnist.load_data()\n",
        "# flatten 28*28 images to a 784 vector for each image\n",
        "num_pixels = X_train.shape[1] * X_train.shape[2]\n",
        "X_train = X_train.reshape((X_train.shape[0], num_pixels)).astype('float32')\n",
        "X_test = X_test.reshape((X_test.shape[0], num_pixels)).astype('float32')\n",
        "# normalize inputs from 0-255 to 0-1\n",
        "X_train = X_train / 255\n",
        "X_test = X_test / 255\n",
        "# one hot encode outputs\n",
        "y_train = to_categorical(y_train)\n",
        "y_test = to_categorical(y_test)\n",
        "num_classes = y_test.shape[1]\n",
        "# define baseline model\n",
        "def baseline_model():\n",
        " # create model\n",
        " model = Sequential()\n",
        " model.add(Dense(num_pixels, input_shape=(num_pixels,), kernel_initializer='normal', activation='relu'))\n",
        " model.add(Dense(num_classes, kernel_initializer='normal', activation='softmax'))\n",
        " # Compile model\n",
        " model.compile(loss='categorical_crossentropy', optimizer='adam', metrics=['accuracy'])\n",
        " return model\n",
        "# build the model\n",
        "model = baseline_model()\n",
        "# Fit the model\n",
        "model.fit(X_train, y_train, validation_data=(X_test, y_test), epochs=10, batch_size=200, verbose=2)\n",
        "# Final evaluation of the model\n",
        "scores = model.evaluate(X_test, y_test, verbose=0)\n",
        "print(\"Baseline Error: %.2f%%\" % (100-scores[1]*100))\n"
      ]
    },
    {
      "cell_type": "code",
      "source": [
        "\n"
      ],
      "metadata": {
        "id": "YE6R8GC5xN_T"
      },
      "execution_count": null,
      "outputs": []
    }
  ]
}