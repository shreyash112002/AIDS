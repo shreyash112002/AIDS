{
  "nbformat": 4,
  "nbformat_minor": 0,
  "metadata": {
    "colab": {
      "provenance": []
    },
    "kernelspec": {
      "name": "python3",
      "display_name": "Python 3"
    },
    "language_info": {
      "name": "python"
    }
  },
  "cells": [
    {
      "cell_type": "code",
      "execution_count": 1,
      "metadata": {
        "colab": {
          "base_uri": "https://localhost:8080/"
        },
        "id": "fTSMaSf98gBe",
        "outputId": "8529f564-0565-407b-d559-fadb511ea97c"
      },
      "outputs": [
        {
          "output_type": "stream",
          "name": "stdout",
          "text": [
            "Collecting pgmpy\n",
            "  Downloading pgmpy-0.1.24-py3-none-any.whl (2.0 MB)\n",
            "\u001b[?25l     \u001b[90m━━━━━━━━━━━━━━━━━━━━━━━━━━━━━━━━━━━━━━━━\u001b[0m \u001b[32m0.0/2.0 MB\u001b[0m \u001b[31m?\u001b[0m eta \u001b[36m-:--:--\u001b[0m\r\u001b[2K     \u001b[91m━\u001b[0m\u001b[91m╸\u001b[0m\u001b[90m━━━━━━━━━━━━━━━━━━━━━━━━━━━━━━━━━━━━━━\u001b[0m \u001b[32m0.1/2.0 MB\u001b[0m \u001b[31m2.5 MB/s\u001b[0m eta \u001b[36m0:00:01\u001b[0m\r\u001b[2K     \u001b[91m━━━━━━━━━━━━━━\u001b[0m\u001b[91m╸\u001b[0m\u001b[90m━━━━━━━━━━━━━━━━━━━━━━━━━\u001b[0m \u001b[32m0.7/2.0 MB\u001b[0m \u001b[31m10.7 MB/s\u001b[0m eta \u001b[36m0:00:01\u001b[0m\r\u001b[2K     \u001b[90m━━━━━━━━━━━━━━━━━━━━━━━━━━━━━━━━━━━━━━━━\u001b[0m \u001b[32m2.0/2.0 MB\u001b[0m \u001b[31m19.6 MB/s\u001b[0m eta \u001b[36m0:00:00\u001b[0m\n",
            "\u001b[?25hRequirement already satisfied: networkx in /usr/local/lib/python3.10/dist-packages (from pgmpy) (3.2)\n",
            "Requirement already satisfied: numpy in /usr/local/lib/python3.10/dist-packages (from pgmpy) (1.23.5)\n",
            "Requirement already satisfied: scipy in /usr/local/lib/python3.10/dist-packages (from pgmpy) (1.11.3)\n",
            "Requirement already satisfied: scikit-learn in /usr/local/lib/python3.10/dist-packages (from pgmpy) (1.2.2)\n",
            "Requirement already satisfied: pandas in /usr/local/lib/python3.10/dist-packages (from pgmpy) (1.5.3)\n",
            "Requirement already satisfied: pyparsing in /usr/local/lib/python3.10/dist-packages (from pgmpy) (3.1.1)\n",
            "Requirement already satisfied: torch in /usr/local/lib/python3.10/dist-packages (from pgmpy) (2.1.0+cu118)\n",
            "Requirement already satisfied: statsmodels in /usr/local/lib/python3.10/dist-packages (from pgmpy) (0.14.0)\n",
            "Requirement already satisfied: tqdm in /usr/local/lib/python3.10/dist-packages (from pgmpy) (4.66.1)\n",
            "Requirement already satisfied: joblib in /usr/local/lib/python3.10/dist-packages (from pgmpy) (1.3.2)\n",
            "Requirement already satisfied: opt-einsum in /usr/local/lib/python3.10/dist-packages (from pgmpy) (3.3.0)\n",
            "Requirement already satisfied: python-dateutil>=2.8.1 in /usr/local/lib/python3.10/dist-packages (from pandas->pgmpy) (2.8.2)\n",
            "Requirement already satisfied: pytz>=2020.1 in /usr/local/lib/python3.10/dist-packages (from pandas->pgmpy) (2023.3.post1)\n",
            "Requirement already satisfied: threadpoolctl>=2.0.0 in /usr/local/lib/python3.10/dist-packages (from scikit-learn->pgmpy) (3.2.0)\n",
            "Requirement already satisfied: patsy>=0.5.2 in /usr/local/lib/python3.10/dist-packages (from statsmodels->pgmpy) (0.5.3)\n",
            "Requirement already satisfied: packaging>=21.3 in /usr/local/lib/python3.10/dist-packages (from statsmodels->pgmpy) (23.2)\n",
            "Requirement already satisfied: filelock in /usr/local/lib/python3.10/dist-packages (from torch->pgmpy) (3.12.4)\n",
            "Requirement already satisfied: typing-extensions in /usr/local/lib/python3.10/dist-packages (from torch->pgmpy) (4.5.0)\n",
            "Requirement already satisfied: sympy in /usr/local/lib/python3.10/dist-packages (from torch->pgmpy) (1.12)\n",
            "Requirement already satisfied: jinja2 in /usr/local/lib/python3.10/dist-packages (from torch->pgmpy) (3.1.2)\n",
            "Requirement already satisfied: fsspec in /usr/local/lib/python3.10/dist-packages (from torch->pgmpy) (2023.6.0)\n",
            "Requirement already satisfied: triton==2.1.0 in /usr/local/lib/python3.10/dist-packages (from torch->pgmpy) (2.1.0)\n",
            "Requirement already satisfied: six in /usr/local/lib/python3.10/dist-packages (from patsy>=0.5.2->statsmodels->pgmpy) (1.16.0)\n",
            "Requirement already satisfied: MarkupSafe>=2.0 in /usr/local/lib/python3.10/dist-packages (from jinja2->torch->pgmpy) (2.1.3)\n",
            "Requirement already satisfied: mpmath>=0.19 in /usr/local/lib/python3.10/dist-packages (from sympy->torch->pgmpy) (1.3.0)\n",
            "Installing collected packages: pgmpy\n",
            "Successfully installed pgmpy-0.1.24\n"
          ]
        },
        {
          "output_type": "stream",
          "name": "stderr",
          "text": [
            "<ipython-input-1-09766eef8310>:14: DeprecationWarning: nx.nx_pydot.to_pydot depends on the pydot package, which has known issues and is not actively maintained.\n",
            "\n",
            "See https://github.com/networkx/networkx/issues/5723\n",
            "  dot_data = nx.nx_pydot.to_pydot(model)\n"
          ]
        },
        {
          "output_type": "stream",
          "name": "stdout",
          "text": [
            "+--------------+--------------+----------------------------+\n",
            "| JohnCalls    | MaryCalls    |   phi(JohnCalls,MaryCalls) |\n",
            "+==============+==============+============================+\n",
            "| JohnCalls(0) | MaryCalls(0) |                     0.0005 |\n",
            "+--------------+--------------+----------------------------+\n",
            "| JohnCalls(0) | MaryCalls(1) |                     0.0495 |\n",
            "+--------------+--------------+----------------------------+\n",
            "| JohnCalls(1) | MaryCalls(0) |                     0.0095 |\n",
            "+--------------+--------------+----------------------------+\n",
            "| JohnCalls(1) | MaryCalls(1) |                     0.9405 |\n",
            "+--------------+--------------+----------------------------+\n"
          ]
        }
      ],
      "source": [
        "!pip install pgmpy\n",
        "from pgmpy.models import BayesianNetwork\n",
        "from pgmpy.factors.discrete import TabularCPD\n",
        "import networkx as nx\n",
        "import pylab as plt\n",
        "# Defining Bayesian Structure\n",
        "model = BayesianNetwork([('Burglary', 'Alarm'), ('Earthquake', 'Alarm'), ('Alarm', 'JohnCalls'), ('Alarm', 'MaryCalls')])\n",
        "import networkx as nx\n",
        "import matplotlib.pyplot as plt\n",
        "from pydotplus import graph_from_dot_data\n",
        "from IPython.display import Image\n",
        "\n",
        "# Convert the Bayesian network to a PyDot graph\n",
        "dot_data = nx.nx_pydot.to_pydot(model)\n",
        "\n",
        "# Create a graph from the PyDot data\n",
        "graph = graph_from_dot_data(dot_data.to_string())\n",
        "\n",
        "# Generate an image from the graph\n",
        "image = graph.create_png()\n",
        "\n",
        "# Display the image\n",
        "Image(image)\n",
        "\n",
        "# Defining the CPDs:\n",
        "cpd_burglary = TabularCPD('Burglary', 2, [[0.001], [0.999]])\n",
        "cpd_earthquake = TabularCPD('Earthquake', 2, [[0.002], [0.998]])\n",
        "\n",
        "cpd_alarm = TabularCPD('Alarm',2,[[0.95, 0.94, 0.29, 0.001],[0.05, 0.06, 0.71, 0.999]],\n",
        "                  evidence=['Burglary', 'Earthquake'], evidence_card=[2, 2])\n",
        "\n",
        "cpd_johncalls = TabularCPD('JohnCalls', 2, [[0.90, 0.05], [0.1, 0.95]],\n",
        "                  evidence=['Alarm'], evidence_card=[2])\n",
        "\n",
        "cpd_marycalls = TabularCPD('MaryCalls', 2, [[0.7, 0.01], [0.3, 0.99]],\n",
        "                  evidence=['Alarm'], evidence_card=[2])\n",
        "# Associating the CPDs with the network structure.\n",
        "model.add_cpds(cpd_burglary, cpd_earthquake, cpd_alarm, cpd_johncalls, cpd_marycalls)\n",
        "\n",
        "model.check_model()\n",
        "# Infering the posterior probability\n",
        "from pgmpy.inference import VariableElimination\n",
        "\n",
        "infer = VariableElimination(model)\n",
        "posterior_p = infer.query(['JohnCalls', 'MaryCalls'], evidence={'Burglary': 0, 'Earthquake': 0, 'Alarm':1})\n",
        "print(posterior_p)\n"
      ]
    }
  ]
}